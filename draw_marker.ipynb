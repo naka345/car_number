{
 "cells": [
  {
   "cell_type": "code",
   "execution_count": null,
   "metadata": {},
   "outputs": [],
   "source": [
    "import numpy as np\n",
    "from keras import backend as K\n",
    "from keras.models import load_model\n",
    "from keras.layers import Input\n",
    "\n",
    "from keras.models import Sequential\n",
    "from keras.layers import Dense, Dropout, Flatten\n",
    "from keras.layers import Conv2D, MaxPooling2D\n",
    "from keras import backend as K\n"
   ]
  },
  {
   "cell_type": "code",
   "execution_count": null,
   "metadata": {},
   "outputs": [],
   "source": [
    "import cv2\n",
    "import numpy as np\n",
    "import pandas as pd\n",
    "import glob\n",
    "import re\n",
    "columns = [\"lu_x\",\"lu_y\",\"ru_x\",\"ru_y\",\"ld_x\",\"ld_y\",\"rd_x\",\"rd_y\"]"
   ]
  },
  {
   "cell_type": "code",
   "execution_count": null,
   "metadata": {},
   "outputs": [],
   "source": [
    "def resize_image(read_image,file_num, csv_df):\n",
    "    img_height, img_width = read_image.shape[:2]\n",
    "    print(file_num)\n",
    "    print(f\"img_height:{img_height}\")\n",
    "    print(f\"img_width:{img_width}\")\n",
    "    width = 200\n",
    "    height = 200\n",
    "    size = (height, width)\n",
    "    resize_image = cv2.resize(read_image, size)\n",
    "\n",
    "    resized_df = csv_df.loc[file_num][:]\n",
    "\n",
    "    zip_ratio_w = img_width/width\n",
    "    zip_ratio_h = img_height/height\n",
    "\n",
    "    print(f\"w:{zip_ratio_w}\")\n",
    "    print(f\"h:{zip_ratio_h}\")\n",
    "    resized_df.iloc[::2] /= zip_ratio_w\n",
    "    resized_df.iloc[1::2] /= zip_ratio_h\n",
    "    cv2.drawMarker(resize_image,(int(resized_df[\"lu_x\"]),int(resized_df[\"lu_y\"])),(0,0,0), markerType=cv2.MARKER_STAR,markerSize=10)\n",
    "    cv2.drawMarker(resize_image,(int(resized_df[\"ru_x\"]),int(resized_df[\"ru_y\"])),(0,0,0) ,markerType=cv2.MARKER_STAR)\n",
    "    cv2.drawMarker(resize_image,(int(resized_df[\"ld_x\"]),int(resized_df[\"ld_y\"])),(0,0,0) ,markerType=cv2.MARKER_STAR)\n",
    "    cv2.drawMarker(resize_image,(int(resized_df[\"rd_x\"]),int(resized_df[\"rd_y\"])),(0,0,0) ,markerType=cv2.MARKER_STAR)\n",
    "    cv2.imwrite(f\"./output/test/test_mark_{file_num}.JPG\", resize_image)\n",
    "    print(csv_df.loc[file_num][:])\n",
    "    print(resized_df)\n",
    "    return resized_df"
   ]
  },
  {
   "cell_type": "code",
   "execution_count": null,
   "metadata": {},
   "outputs": [],
   "source": [
    "def resize_image(read_image,file_num, csv_df):\n",
    "    img_height, img_width = read_image.shape[:2]\n",
    "    print(file_num)\n",
    "    print(f\"img_height:{img_height}\")\n",
    "    print(f\"img_width:{img_width}\")\n",
    "    width = 200\n",
    "    height = 200\n",
    "    size = (height, width)\n",
    "    resize_image = cv2.resize(read_image, size)\n",
    "\n",
    "    resized_df = csv_df.loc[file_num][:]\n",
    "\n",
    "    zip_ratio_w = img_width/width\n",
    "    zip_ratio_h = img_height/height\n",
    "\n",
    "    print(f\"w:{zip_ratio_w}\")\n",
    "    print(f\"h:{zip_ratio_h}\")\n",
    "    resized_df.iloc[::2] /= zip_ratio_w\n",
    "    resized_df.iloc[1::2] /= zip_ratio_h\n",
    "    cv2.drawMarker(resize_image,(int(resized_df[\"lu_x\"]),int(resized_df[\"lu_y\"])),(0,0,0), markerType=cv2.MARKER_STAR,markerSize=10)\n",
    "    cv2.drawMarker(resize_image,(int(resized_df[\"ru_x\"]),int(resized_df[\"ru_y\"])),(0,0,0) ,markerType=cv2.MARKER_STAR)\n",
    "    cv2.drawMarker(resize_image,(int(resized_df[\"ld_x\"]),int(resized_df[\"ld_y\"])),(0,0,0) ,markerType=cv2.MARKER_STAR)\n",
    "    cv2.drawMarker(resize_image,(int(resized_df[\"rd_x\"]),int(resized_df[\"rd_y\"])),(0,0,0) ,markerType=cv2.MARKER_STAR)\n",
    "    cv2.imwrite(f\"./output/test/test_mark_{file_num}.JPG\", resize_image)\n",
    "    print(csv_df.loc[file_num][:])\n",
    "    print(resized_df)\n",
    "    return resized_df\n",
    "\n",
    "def transform_matrix_offset_center(matrix, x, y):\n",
    "    o_x = float(x) / 2 + 0.5\n",
    "    o_y = float(y) / 2 + 0.5\n",
    "    offset_matrix = np.array([[1, 0, o_x], [0, 1, o_y], [0, 0, 1]])\n",
    "    reset_matrix = np.array([[1, 0, -o_x], [0, 1, -o_y], [0, 0, 1]])\n",
    "    transform_matrix = np.dot(np.dot(offset_matrix, matrix), reset_matrix)\n",
    "    return transform_matrix"
   ]
  },
  {
   "cell_type": "code",
   "execution_count": null,
   "metadata": {},
   "outputs": [],
   "source": [
    "ls = glob.glob(\"./output/car/20190123\" + \"/*.JPG\")\n",
    "df_concat = pd.Series([0,0,0,0,0,0,0,0],index = columns)\n",
    "for path in ls:\n",
    "    read_image = cv2.imread(path)\n",
    "    file_name = path.split('/')[-1]\n",
    "    file_num = re.sub(r'\\D', '', file_name)\n",
    "    csv_df = pd.read_csv(f'./output/csv/20190123.csv',index_col=0)\n",
    "    resized_df = resize_image(read_image, int(file_num), csv_df)\n",
    "    df_concat = pd.concat([df_concat, resized_df],axis=1)\n",
    "\n",
    "print(df_concat)\n",
    "df_T=df_concat.T\n",
    "df_T[1:].to_csv(f'resized_df.csv')"
   ]
  },
  {
   "cell_type": "code",
   "execution_count": null,
   "metadata": {},
   "outputs": [],
   "source": [
    "import  keras_preprocessing.image as k\n",
    "k.flip_axis"
   ]
  },
  {
   "cell_type": "code",
   "execution_count": null,
   "metadata": {},
   "outputs": [],
   "source": []
  }
 ],
 "metadata": {
  "kernelspec": {
   "display_name": "Python 3",
   "language": "python",
   "name": "python3"
  },
  "language_info": {
   "codemirror_mode": {
    "name": "ipython",
    "version": 3
   },
   "file_extension": ".py",
   "mimetype": "text/x-python",
   "name": "python",
   "nbconvert_exporter": "python",
   "pygments_lexer": "ipython3",
   "version": "3.7.3"
  }
 },
 "nbformat": 4,
 "nbformat_minor": 2
}
