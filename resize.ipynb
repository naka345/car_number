{
 "cells": [
  {
   "cell_type": "code",
   "execution_count": 1,
   "metadata": {},
   "outputs": [],
   "source": [
    "# -*- coding: utf-8 -*-\n",
    "import os\n",
    "import sys\n",
    "import pandas as pd\n",
    "import re\n",
    "import numpy as np\n",
    "path = os.path.join(os.path.dirname(os.path.abspath(\"__file__\")), 'keras_yolo3/')\n",
    "sys.path.append(path)\n"
   ]
  },
  {
   "cell_type": "code",
   "execution_count": 2,
   "metadata": {},
   "outputs": [
    {
     "name": "stderr",
     "output_type": "stream",
     "text": [
      "Using TensorFlow backend.\n"
     ]
    }
   ],
   "source": [
    "\"\"\"\n",
    "Class definition of YOLO_v3 style detection model on image and video\n",
    "\"\"\"\n",
    "import colorsys\n",
    "from timeit import default_timer as timer\n",
    "\n",
    "import numpy as np\n",
    "from keras import backend as K\n",
    "from keras.models import load_model\n",
    "from keras.layers import Input\n",
    "from PIL import Image, ImageFont, ImageDraw\n",
    "\n",
    "from yolo3.model import yolo_eval, yolo_body, tiny_yolo_body\n",
    "from yolo3.utils import letterbox_image\n",
    "from keras.utils import multi_gpu_model\n",
    "\n",
    "import glob\n",
    "from PIL import Image"
   ]
  },
  {
   "cell_type": "code",
   "execution_count": 2,
   "metadata": {},
   "outputs": [
    {
     "name": "stderr",
     "output_type": "stream",
     "text": [
      "Using TensorFlow backend.\n",
      "WARNING: Logging before flag parsing goes to stderr.\n",
      "W0903 15:37:58.573909 4570994112 deprecation_wrapper.py:119] From /Users/nakamura.yuta/Desktop/venv37/lib/python3.7/site-packages/keras/backend/tensorflow_backend.py:174: The name tf.get_default_session is deprecated. Please use tf.compat.v1.get_default_session instead.\n",
      "\n",
      "W0903 15:37:58.574661 4570994112 deprecation_wrapper.py:119] From /Users/nakamura.yuta/Desktop/venv37/lib/python3.7/site-packages/keras/backend/tensorflow_backend.py:181: The name tf.ConfigProto is deprecated. Please use tf.compat.v1.ConfigProto instead.\n",
      "\n",
      "W0903 15:37:58.575264 4570994112 deprecation_wrapper.py:119] From /Users/nakamura.yuta/Desktop/venv37/lib/python3.7/site-packages/keras/backend/tensorflow_backend.py:186: The name tf.Session is deprecated. Please use tf.compat.v1.Session instead.\n",
      "\n",
      "W0903 15:37:58.589152 4570994112 deprecation_wrapper.py:119] From /Users/nakamura.yuta/Desktop/venv37/lib/python3.7/site-packages/keras/backend/tensorflow_backend.py:190: The name tf.global_variables is deprecated. Please use tf.compat.v1.global_variables instead.\n",
      "\n",
      "W0903 15:37:58.595020 4570994112 deprecation_wrapper.py:119] From /Users/nakamura.yuta/Desktop/venv37/lib/python3.7/site-packages/keras/backend/tensorflow_backend.py:517: The name tf.placeholder is deprecated. Please use tf.compat.v1.placeholder instead.\n",
      "\n",
      "W0903 15:37:58.671519 4570994112 deprecation_wrapper.py:119] From /Users/nakamura.yuta/Desktop/venv37/lib/python3.7/site-packages/keras/backend/tensorflow_backend.py:1834: The name tf.nn.fused_batch_norm is deprecated. Please use tf.compat.v1.nn.fused_batch_norm instead.\n",
      "\n",
      "W0903 15:38:02.530320 4570994112 deprecation_wrapper.py:119] From /Users/nakamura.yuta/Desktop/venv37/lib/python3.7/site-packages/keras/backend/tensorflow_backend.py:2018: The name tf.image.resize_nearest_neighbor is deprecated. Please use tf.compat.v1.image.resize_nearest_neighbor instead.\n",
      "\n"
     ]
    },
    {
     "name": "stdout",
     "output_type": "stream",
     "text": [
      "keras_yolo3/model_data/yolo.h5 model, anchors, and classes loaded.\n"
     ]
    },
    {
     "name": "stderr",
     "output_type": "stream",
     "text": [
      "W0903 15:38:06.681725 4570994112 deprecation.py:323] From /Users/nakamura.yuta/Desktop/venv37/lib/python3.7/site-packages/tensorflow/python/ops/array_ops.py:1354: add_dispatch_support.<locals>.wrapper (from tensorflow.python.ops.array_ops) is deprecated and will be removed in a future version.\n",
      "Instructions for updating:\n",
      "Use tf.where in 2.0, which has the same broadcast rule as np.where\n"
     ]
    },
    {
     "ename": "NameError",
     "evalue": "name 'pd' is not defined",
     "output_type": "error",
     "traceback": [
      "\u001b[0;31m---------------------------------------------------------------------------\u001b[0m",
      "\u001b[0;31mNameError\u001b[0m                                 Traceback (most recent call last)",
      "\u001b[0;32m<ipython-input-2-2018b0ebeb76>\u001b[0m in \u001b[0;36m<module>\u001b[0;34m\u001b[0m\n\u001b[1;32m      3\u001b[0m \u001b[0;34m\u001b[0m\u001b[0m\n\u001b[1;32m      4\u001b[0m \u001b[0mcolumns\u001b[0m \u001b[0;34m=\u001b[0m \u001b[0;34m[\u001b[0m\u001b[0;34m\"lu_x\"\u001b[0m\u001b[0;34m,\u001b[0m\u001b[0;34m\"lu_y\"\u001b[0m\u001b[0;34m,\u001b[0m\u001b[0;34m\"ru_x\"\u001b[0m\u001b[0;34m,\u001b[0m\u001b[0;34m\"ru_y\"\u001b[0m\u001b[0;34m,\u001b[0m\u001b[0;34m\"ld_x\"\u001b[0m\u001b[0;34m,\u001b[0m\u001b[0;34m\"ld_y\"\u001b[0m\u001b[0;34m,\u001b[0m\u001b[0;34m\"rd_x\"\u001b[0m\u001b[0;34m,\u001b[0m\u001b[0;34m\"rd_y\"\u001b[0m\u001b[0;34m]\u001b[0m\u001b[0;34m\u001b[0m\u001b[0;34m\u001b[0m\u001b[0m\n\u001b[0;32m----> 5\u001b[0;31m \u001b[0mdf_concat\u001b[0m \u001b[0;34m=\u001b[0m \u001b[0mpd\u001b[0m\u001b[0;34m.\u001b[0m\u001b[0mSeries\u001b[0m\u001b[0;34m(\u001b[0m\u001b[0;34m[\u001b[0m\u001b[0;36m0\u001b[0m\u001b[0;34m,\u001b[0m\u001b[0;36m0\u001b[0m\u001b[0;34m,\u001b[0m\u001b[0;36m0\u001b[0m\u001b[0;34m,\u001b[0m\u001b[0;36m0\u001b[0m\u001b[0;34m,\u001b[0m\u001b[0;36m0\u001b[0m\u001b[0;34m,\u001b[0m\u001b[0;36m0\u001b[0m\u001b[0;34m,\u001b[0m\u001b[0;36m0\u001b[0m\u001b[0;34m,\u001b[0m\u001b[0;36m0\u001b[0m\u001b[0;34m]\u001b[0m\u001b[0;34m,\u001b[0m\u001b[0mindex\u001b[0m \u001b[0;34m=\u001b[0m \u001b[0mcolumns\u001b[0m\u001b[0;34m)\u001b[0m\u001b[0;34m\u001b[0m\u001b[0;34m\u001b[0m\u001b[0m\n\u001b[0m\u001b[1;32m      6\u001b[0m \u001b[0mdf_resize_concat\u001b[0m \u001b[0;34m=\u001b[0m \u001b[0mpd\u001b[0m\u001b[0;34m.\u001b[0m\u001b[0mSeries\u001b[0m\u001b[0;34m(\u001b[0m\u001b[0;34m[\u001b[0m\u001b[0;36m0\u001b[0m\u001b[0;34m,\u001b[0m\u001b[0;36m0\u001b[0m\u001b[0;34m,\u001b[0m\u001b[0;36m0\u001b[0m\u001b[0;34m,\u001b[0m\u001b[0;36m0\u001b[0m\u001b[0;34m,\u001b[0m\u001b[0;36m0\u001b[0m\u001b[0;34m,\u001b[0m\u001b[0;36m0\u001b[0m\u001b[0;34m,\u001b[0m\u001b[0;36m0\u001b[0m\u001b[0;34m,\u001b[0m\u001b[0;36m0\u001b[0m\u001b[0;34m]\u001b[0m\u001b[0;34m,\u001b[0m\u001b[0mindex\u001b[0m \u001b[0;34m=\u001b[0m \u001b[0mcolumns\u001b[0m\u001b[0;34m)\u001b[0m\u001b[0;34m\u001b[0m\u001b[0;34m\u001b[0m\u001b[0m\n\u001b[1;32m      7\u001b[0m \u001b[0;34m\u001b[0m\u001b[0m\n",
      "\u001b[0;31mNameError\u001b[0m: name 'pd' is not defined"
     ]
    }
   ],
   "source": [
    "from resize import Resize\n",
    "resize = Resize()\n",
    "\n",
    "columns = [\"lu_x\",\"lu_y\",\"ru_x\",\"ru_y\",\"ld_x\",\"ld_y\",\"rd_x\",\"rd_y\"]\n",
    "df_concat = pd.Series([0,0,0,0,0,0,0,0],index = columns)\n",
    "df_resize_concat = pd.Series([0,0,0,0,0,0,0,0],index = columns)\n",
    "\n",
    "#excel_df = pd.read_excel(f'./{dir_name}/{dir_name}list.xlsx',names=columns, index=0)\n",
    "print(os.getcwd())\n",
    "root_path = os.getcwd()\n",
    "\n",
    "output_path = f\"{root_path}/output/car/\"\n",
    "output_csv_path = f\"{root_path}/output/csv/\"\n",
    "train_csv_path = f\"{root_path}/output/train/\""
   ]
  },
  {
   "cell_type": "code",
   "execution_count": null,
   "metadata": {},
   "outputs": [],
   "source": [
    "\n",
    "\n",
    "    img_path = glob.glob(f\"{root_path}/data/img/*\")\n",
    "    all_kv={}\n",
    "\n",
    "    for dirr in img_path:\n",
    "        pattern = '.*/(.*)$'\n",
    "        result = re.findall(pattern, dirr)\n",
    "        os.makedirs(f\"{output_path}{result[0]}\", exist_ok=True)\n",
    "\n",
    "        # test\n",
    "        dirr = '/Users/nakamura.yuta/Desktop/num_plate/car_number/data/img/001'\n",
    "        result = [\"001\"]\n",
    "\n",
    "\n",
    "        jpeg_ls = glob.glob(f\"{root_path}/data/img/{result[0]}/*.jpeg\")\n",
    "        jpg_ls = glob.glob(f\"{root_path}/data/img/{result[0]}/*.jpg\")\n",
    "        JPG_ls = glob.glob(f\"{root_path}/data/img/{result[0]}/*.JPG\")\n",
    "        png_ls = glob.glob(f\"{root_path}/data/img/{result[0]}/*.png\")\n",
    "        PNG_ls = glob.glob(f\"{root_path}/data/img/{result[0]}/*.PNG\")\n",
    "        img_ls = jpeg_ls + jpg_ls + JPG_ls + png_ls + PNG_ls\n",
    "        all_kv.update({dirr:img_ls})\n",
    "        csv_path = f\"{root_path}/data/csv/{result[0]}.csv\"\n",
    "        read_csv = pd.read_csv(csv_path, dtype = 'object', index_col=1)\n",
    "\n",
    "        d_type = {'lu_x': 'int32', 'lu_y': 'int32', 'ru_x': 'int32', 'ru_y': 'int32', 'ld_x': 'int32', 'ld_y': 'int32', 'rd_x': 'int32', 'rd_y': 'int32'}\n",
    "        read_csv = read_csv.astype(d_type)\n",
    "\n",
    "        csv_df = read_csv.loc[:, 'lu_x':'rd_y']\n",
    "\n",
    "\n",
    "        resize.crop_img(csv_df, all_kv, df_concat, df_resize_concat)\n",
    "        break\n",
    "\n",
    "    print(\"ww\")\n",
    "    image_list = glob.glob(image_dir_path + '*.JPG')\n",
    "    resize.resize_all_image(image_list)"
   ]
  },
  {
   "cell_type": "code",
   "execution_count": 23,
   "metadata": {},
   "outputs": [
    {
     "name": "stdout",
     "output_type": "stream",
     "text": [
      "103\n",
      "102\n",
      "001\n",
      "101\n",
      "003\n",
      "004\n",
      "002\n"
     ]
    }
   ],
   "source": [
    "for key in all_kv.keys():\n",
    "   "
   ]
  },
  {
   "cell_type": "code",
   "execution_count": 15,
   "metadata": {},
   "outputs": [
    {
     "name": "stdout",
     "output_type": "stream",
     "text": [
      "['103']\n"
     ]
    }
   ],
   "source": [
    "content = r'/Users/naka345/Desktop/deeplearning/car_number/data/103' \n",
    "pattern = '.*/(.*)$'\n",
    "result = re.findall(pattern, content)\n",
    "print(result)"
   ]
  },
  {
   "cell_type": "code",
   "execution_count": 52,
   "metadata": {},
   "outputs": [
    {
     "data": {
      "text/plain": [
       "'   \\n        print(out_boxes.shape)\\n        out_boxes=np.append(out_boxes,np.array([[1597, 1299, 1757, 1542]]),axis=0)\\n        out_scores=np.append(out_scores,np.array([0.5]),axis=0)\\n        out_classes=np.append(out_classes,np.array([2]),axis=0)\\n'"
      ]
     },
     "execution_count": 52,
     "metadata": {},
     "output_type": "execute_result"
    }
   ],
   "source": [
    "'''   \n",
    "        print(out_boxes.shape)\n",
    "        out_boxes=np.append(out_boxes,np.array([[1597, 1299, 1757, 1542]]),axis=0)\n",
    "        out_scores=np.append(out_scores,np.array([0.5]),axis=0)\n",
    "        out_classes=np.append(out_classes,np.array([2]),axis=0)\n",
    "'''"
   ]
  }
 ],
 "metadata": {
  "kernelspec": {
   "display_name": "Python 3",
   "language": "python",
   "name": "python3"
  },
  "language_info": {
   "codemirror_mode": {
    "name": "ipython",
    "version": 3
   },
   "file_extension": ".py",
   "mimetype": "text/x-python",
   "name": "python",
   "nbconvert_exporter": "python",
   "pygments_lexer": "ipython3",
   "version": "3.7.4"
  }
 },
 "nbformat": 4,
 "nbformat_minor": 2
}
