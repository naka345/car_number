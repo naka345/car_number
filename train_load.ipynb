{
 "cells": [
  {
   "cell_type": "code",
   "execution_count": null,
   "metadata": {},
   "outputs": [],
   "source": [
    "from tensorflow.python.client import device_lib\n",
    "device_lib.list_local_devices()\n"
   ]
  },
  {
   "cell_type": "code",
   "execution_count": null,
   "metadata": {},
   "outputs": [],
   "source": [
    "%matplotlib inline\n",
    "import matplotlib.pyplot as plt\n",
    "import re\n",
    "import os\n",
    "import glob\n",
    "import numpy as np\n",
    "import pandas as pd\n",
    "import cv2\n",
    "from keras.preprocessing.image import load_img, save_img, img_to_array, array_to_img\n",
    "import keras\n",
    "print(keras.backend.image_data_format())\n",
    "from keras.models import Model\n"
   ]
  },
  {
   "cell_type": "code",
   "execution_count": null,
   "metadata": {},
   "outputs": [],
   "source": [
    "current_path = os.getcwd()\n",
    "output_path = f\"{current_path}/output\"\n",
    "csv_path = f\"{output_path}/csv\"\n",
    "output_train_path = f\"{output_path}/train\""
   ]
  },
  {
   "cell_type": "code",
   "execution_count": null,
   "metadata": {},
   "outputs": [],
   "source": [
    "train_csv_list = glob.glob(f\"{csv_path}/*_train.csv\")\n"
   ]
  },
  {
   "cell_type": "code",
   "execution_count": null,
   "metadata": {},
   "outputs": [],
   "source": [
    "pred_csv_list=train_csv_list.pop(1)\n",
    "pred_csv_list = [pred_csv_list]\n",
    "print([pred_csv_list])"
   ]
  },
  {
   "cell_type": "code",
   "execution_count": null,
   "metadata": {},
   "outputs": [],
   "source": [
    "def read_csv_to_df(train_csv_list):\n",
    "    columns = [\"lu_x\",\"lu_y\",\"ru_x\",\"ru_y\",\"ld_x\",\"ld_y\",\"rd_x\",\"rd_y\"]\n",
    "    return_dict = {}\n",
    "    dir_list=[]\n",
    "    df_concat = pd.Series([0,0,0,0,0,0,0,0],index = columns)\n",
    "    for train_csv in train_csv_list:\n",
    "        dir_path = train_csv.split('/')[-1].rstrip(\"_train.csv\")\n",
    "        print(train_csv)\n",
    "        read_df = pd.read_csv(train_csv,index_col=0)\n",
    "        df_concat = pd.concat([df_concat, read_df.T],axis=1)\n",
    "        return_dict.update({dir_path:df_concat.T[1:]})\n",
    "        dir_list.append(dir_path)\n",
    "        df_concat = pd.Series([0,0,0,0,0,0,0,0],index = columns)\n",
    "    return return_dict,dir_list"
   ]
  },
  {
   "cell_type": "code",
   "execution_count": null,
   "metadata": {},
   "outputs": [],
   "source": [
    "train_csv_dict, train_dir_list = read_csv_to_df(train_csv_list)\n",
    "\n",
    "#test_csv_dict, test_dir_list  = read_csv_to_df(test_csv_list)\n",
    "pred_csv_dict, pred_dir_list  = read_csv_to_df(pred_csv_list)\n",
    "\n",
    "label = train_csv_dict[\"001\"].columns"
   ]
  },
  {
   "cell_type": "code",
   "execution_count": null,
   "metadata": {},
   "outputs": [],
   "source": [
    "def data_pack(csv_dict, dir_list,train_path):\n",
    "    img_shape = 200.\n",
    "    x_data =[]\n",
    "    y_data=[]\n",
    "    data_list = []\n",
    "\n",
    "    for name in dir_list:\n",
    "        train_dir_path = f\"{train_path}/{name}\"\n",
    "\n",
    "        index_list = csv_dict[name].index.values\n",
    "        \n",
    "        #tmp_dir = [f\"{train_dir_path}/img_name\" for img_name in index_list]\n",
    "        data_list.extend(index_list)\n",
    "\n",
    "\n",
    "        x_list = [img_to_array(load_img(f\"{train_dir_path}/train_{val}.jpg\"))/255. for val in index_list]\n",
    "        \n",
    "        y_list = [csv_dict[name].loc[val].values/img_shape for val in index_list]\n",
    "\n",
    "        print(name)\n",
    "        x_list = np.array(x_list)\n",
    "        print(x_list.shape)\n",
    "        y_list = np.array(y_list)\n",
    "        print(y_list.shape)\n",
    "        \n",
    "        x_data.append(x_list)\n",
    "        y_data.append(y_list)\n",
    "        \n",
    "        #return x_data, y_data\n",
    "    return np.vstack(x_data), np.vstack(y_data),data_list"
   ]
  },
  {
   "cell_type": "code",
   "execution_count": null,
   "metadata": {},
   "outputs": [],
   "source": [
    "x_train,y_train,train_data_list=data_pack(train_csv_dict, train_dir_list, output_train_path)\n",
    "print(\"==============-\")\n",
    "pred_x_test,pred_y_test,pred_data_list=data_pack(pred_csv_dict, pred_dir_list,output_train_path)"
   ]
  },
  {
   "cell_type": "code",
   "execution_count": null,
   "metadata": {},
   "outputs": [],
   "source": [
    "print(x_train.shape)"
   ]
  },
  {
   "cell_type": "code",
   "execution_count": null,
   "metadata": {},
   "outputs": [],
   "source": [
    "from keras.models import Sequential\n",
    "from keras.layers.normalization import BatchNormalization\n",
    "from keras.layers.convolutional import Conv2D\n",
    "from keras.layers.pooling import MaxPool2D, GlobalAveragePooling2D\n",
    "from keras.optimizers import Adam\n",
    "from keras.layers.core import Dense, Activation, Dropout, Flatten\n",
    "from keras.utils import plot_model"
   ]
  },
  {
   "cell_type": "code",
   "execution_count": null,
   "metadata": {},
   "outputs": [],
   "source": [
    "model = Sequential()\n",
    "\n",
    "print(x_train.shape[1:])\n",
    "model.add(Conv2D(32, (5, 5), padding='same', input_shape=x_train.shape[1:]))\n",
    "model.add(BatchNormalization())\n",
    "model.add(Conv2D(32, (3, 3), padding='same',kernel_initializer='he_normal'))\n",
    "model.add(BatchNormalization())\n",
    "model.add(Activation('relu'))\n",
    "model.add(MaxPool2D(pool_size=(2, 2)))\n",
    "model.add(Dropout(0.5))\n",
    "\n",
    "model.add(Conv2D(64, (1, 1), padding='same',kernel_initializer='he_normal'))\n",
    "model.add(BatchNormalization())\n",
    "model.add(Activation('relu'))\n",
    "model.add(Conv2D(64, (3, 3) ,padding='same',kernel_initializer='he_normal'))\n",
    "model.add(BatchNormalization())\n",
    "model.add(Activation('relu'))\n",
    "model.add(Conv2D(256, (1, 1) ,padding='same',kernel_initializer='he_normal'))\n",
    "model.add(BatchNormalization())\n",
    "model.add(Activation('relu'))\n",
    "model.add(MaxPool2D(pool_size=(2, 2)))\n",
    "model.add(Dropout(0.5))\n",
    "\n",
    "model.add(Conv2D(256, (1, 1), padding='same',kernel_initializer='he_normal'))\n",
    "model.add(BatchNormalization())\n",
    "#model.add(Activation('relu'))\n",
    "model.add(Conv2D(256, (3, 3), padding='same',kernel_initializer='he_normal'))\n",
    "model.add(BatchNormalization())\n",
    "model.add(Activation('relu'))\n",
    "model.add(Conv2D(256, (1, 1), padding='same',kernel_initializer='he_normal'))\n",
    "model.add(BatchNormalization())\n",
    "#model.add(Activation('relu'))\n",
    "model.add(MaxPool2D(pool_size=(2, 2)))\n",
    "model.add(Dropout(0.5))\n",
    "\n",
    "model.add(GlobalAveragePooling2D())\n",
    "model.add(Dense(512))\n",
    "model.add(Activation('relu'))\n",
    "model.add(BatchNormalization())\n",
    "model.add(Dropout(0.5))\n",
    "model.add(Dense(256))\n",
    "model.add(Activation('relu'))\n",
    "model.add(BatchNormalization())\n",
    "model.add(Dropout(0.5))\n",
    "model.add(Dense(y_train.shape[1]))\n",
    "#model.add(Activation('softmax'))"
   ]
  },
  {
   "cell_type": "code",
   "execution_count": null,
   "metadata": {},
   "outputs": [],
   "source": [
    "from keras.optimizers import Adam, Nadam\n",
    "nadam = Nadam(lr=0.002, beta_1=0.9, beta_2=0.999, epsilon=1e-08, schedule_decay=0.004)\n",
    "adam = Adam(lr=0.001, beta_1=0.9, beta_2=0.999, epsilon=1e-08)\n",
    "model.compile(loss='mean_absolute_error',\n",
    "                  optimizer=nadam,\n",
    "                  metrics=['squared_hinge'])"
   ]
  },
  {
   "cell_type": "code",
   "execution_count": null,
   "metadata": {},
   "outputs": [],
   "source": [
    "history = model.fit(x_train, y_train, batch_size=128, epochs=50, verbose=1, validation_split=0.1)"
   ]
  },
  {
   "cell_type": "code",
   "execution_count": null,
   "metadata": {},
   "outputs": [],
   "source": [
    "model.save(f\"{output_path}/test.h5\")\n",
    "#plot_model(model, to_file=f\"{output_path}/test.png\")"
   ]
  },
  {
   "cell_type": "code",
   "execution_count": null,
   "metadata": {},
   "outputs": [],
   "source": [
    "from keras.models import load_model\n",
    "l_mode=load_model(f\"{output_path}/test.h5\")"
   ]
  },
  {
   "cell_type": "code",
   "execution_count": null,
   "metadata": {},
   "outputs": [],
   "source": [
    "score = l_mode.evaluate(pred_x_test, pred_y_test, verbose=0)\n",
    "print('Test loss:', score[0])\n",
    "print('Test accuracy:', score[1])"
   ]
  },
  {
   "cell_type": "code",
   "execution_count": null,
   "metadata": {},
   "outputs": [],
   "source": [
    "l_mode.summary()"
   ]
  },
  {
   "cell_type": "code",
   "execution_count": null,
   "metadata": {},
   "outputs": [],
   "source": [
    "pred_his = l_mode.predict(pred_x_test)\n",
    "print(pred_his)"
   ]
  },
  {
   "cell_type": "code",
   "execution_count": null,
   "metadata": {},
   "outputs": [],
   "source": [
    "pred_his = l_mode.predict(pred_x_test[0:1])\n",
    "print(pred_his)\n",
    "print(pred_y_test[0:1])"
   ]
  },
  {
   "cell_type": "code",
   "execution_count": null,
   "metadata": {},
   "outputs": [],
   "source": [
    "print(pred_x_test.shape)"
   ]
  },
  {
   "cell_type": "code",
   "execution_count": null,
   "metadata": {},
   "outputs": [],
   "source": [
    "def check_img(image, y_label,name=None):\n",
    "    im = image\n",
    "\n",
    "    cv2.drawMarker(im,(int(y_label[0]),int(y_label[1])),(255,0,0), markerType=cv2.MARKER_STAR)\n",
    "    cv2.drawMarker(im,(int(y_label[2]),int(y_label[3])),(0,255,0), markerType=cv2.MARKER_STAR)\n",
    "    cv2.drawMarker(im,(int(y_label[4]),int(y_label[5])),(0,0,255), markerType=cv2.MARKER_STAR)\n",
    "    cv2.drawMarker(im,(int(y_label[6]),int(y_label[7])),(0,0,0), markerType=cv2.MARKER_STAR)\n",
    "    \n",
    "    if name is not None:\n",
    "        image_path =f\"{current_path}/output/model/{name}.jpg\"\n",
    "        cv2.imwrite(image_path,im)\n",
    "        return im\n",
    "    else:\n",
    "        return im\n",
    "    del im"
   ]
  },
  {
   "cell_type": "code",
   "execution_count": null,
   "metadata": {},
   "outputs": [],
   "source": [
    "#print((pred_x_test[0]*255).astype(np.int16))"
   ]
  },
  {
   "cell_type": "code",
   "execution_count": null,
   "metadata": {},
   "outputs": [],
   "source": [
    "image=check_img((x_train[100]*255).astype(np.int16),y_train[100]*200)\n",
    "plt.imshow(image)\n",
    "test_img_path =f\"{current_path}/output/model/test_img.jpg\"\n",
    "plt.savefig(test_img_path)"
   ]
  },
  {
   "cell_type": "code",
   "execution_count": null,
   "metadata": {},
   "outputs": [],
   "source": [
    "for i,name in enumerate(train_data_list):\n",
    "    x_img = (x_train[i]*255).astype(np.int16)\n",
    "    pred_val = (y_train[i]*200).astype(np.int16)\n",
    "    check_img(x_img,pred_val,name)"
   ]
  },
  {
   "cell_type": "code",
   "execution_count": null,
   "metadata": {},
   "outputs": [],
   "source": [
    "for i,name in enumerate(pred_data_list):\n",
    "    x_img = (pred_x_test[i]*255).astype(np.int16)\n",
    "    pred_val = (pred_his[i]*200).astype(np.int16)\n",
    "    check_img(x_img,pred_val,name)"
   ]
  },
  {
   "cell_type": "code",
   "execution_count": null,
   "metadata": {},
   "outputs": [],
   "source": [
    "from keras.preprocessing import image\n",
    "params = {\n",
    "    'rotation_range': 20,\n",
    "    'width_shift_range': 0.1\n",
    "}\n",
    "datagen = image.ImageDataGenerator(**params)\n",
    "gen = datagen.flow(x, batch_size=16)\n",
    "print(len(x_train))\n",
    "model.fit_generator(gen, steps_per_epoch=len(x_train) / 32, epochs=16)"
   ]
  },
  {
   "cell_type": "code",
   "execution_count": null,
   "metadata": {},
   "outputs": [],
   "source": []
  },
  {
   "cell_type": "code",
   "execution_count": null,
   "metadata": {},
   "outputs": [],
   "source": []
  }
 ],
 "metadata": {
  "kernelspec": {
   "display_name": "Python 3",
   "language": "python",
   "name": "python3"
  },
  "language_info": {
   "codemirror_mode": {
    "name": "ipython",
    "version": 3
   },
   "file_extension": ".py",
   "mimetype": "text/x-python",
   "name": "python",
   "nbconvert_exporter": "python",
   "pygments_lexer": "ipython3",
   "version": "3.7.3"
  }
 },
 "nbformat": 4,
 "nbformat_minor": 2
}
