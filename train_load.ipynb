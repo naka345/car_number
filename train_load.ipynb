{
 "cells": [
  {
   "cell_type": "code",
   "execution_count": null,
   "metadata": {},
   "outputs": [],
   "source": [
    "from tensorflow.python.client import device_lib\n",
    "device_lib.list_local_devices()\n"
   ]
  },
  {
   "cell_type": "code",
   "execution_count": 1,
   "metadata": {},
   "outputs": [
    {
     "name": "stderr",
     "output_type": "stream",
     "text": [
      "Using TensorFlow backend.\n"
     ]
    },
    {
     "name": "stdout",
     "output_type": "stream",
     "text": [
      "channels_last\n"
     ]
    }
   ],
   "source": [
    "%matplotlib inline\n",
    "import matplotlib.pyplot as plt\n",
    "import re\n",
    "import os\n",
    "import glob\n",
    "import numpy as np\n",
    "import pandas as pd\n",
    "import cv2\n",
    "from keras.preprocessing.image import load_img, save_img, img_to_array, array_to_img\n",
    "import keras\n",
    "print(keras.backend.image_data_format())\n",
    "from keras.models import Model\n"
   ]
  },
  {
   "cell_type": "code",
   "execution_count": 2,
   "metadata": {},
   "outputs": [],
   "source": [
    "current_path = os.getcwd()\n",
    "output_path = f\"{current_path}/output\"\n",
    "csv_path = f\"{output_path}/csv\"\n",
    "output_train_path = f\"{output_path}/train\""
   ]
  },
  {
   "cell_type": "code",
   "execution_count": 3,
   "metadata": {},
   "outputs": [],
   "source": [
    "train_csv_list = glob.glob(f\"{csv_path}/*_train.csv\")\n"
   ]
  },
  {
   "cell_type": "code",
   "execution_count": 4,
   "metadata": {},
   "outputs": [
    {
     "name": "stdout",
     "output_type": "stream",
     "text": [
      "[['/home/aiclub/jupyter_env/Crimson_peacock/car_number/output/csv/20190123_train.csv']]\n"
     ]
    }
   ],
   "source": [
    "pred_csv_list=train_csv_list.pop(1)\n",
    "pred_csv_list = [pred_csv_list]\n",
    "print([pred_csv_list])"
   ]
  },
  {
   "cell_type": "code",
   "execution_count": 5,
   "metadata": {},
   "outputs": [],
   "source": [
    "def read_csv_to_df(train_csv_list):\n",
    "    columns = [\"lu_x\",\"lu_y\",\"ru_x\",\"ru_y\",\"ld_x\",\"ld_y\",\"rd_x\",\"rd_y\"]\n",
    "    return_dict = {}\n",
    "    dir_list=[]\n",
    "    df_concat = pd.Series([0,0,0,0,0,0,0,0],index = columns)\n",
    "    for train_csv in train_csv_list:\n",
    "        dir_path = train_csv.split('/')[-1].rstrip(\"_train.csv\")\n",
    "        print(train_csv)\n",
    "        read_df = pd.read_csv(train_csv,index_col=0)\n",
    "        df_concat = pd.concat([df_concat, read_df.T],axis=1)\n",
    "        return_dict.update({dir_path:df_concat.T[1:]})\n",
    "        dir_list.append(dir_path)\n",
    "        df_concat = pd.Series([0,0,0,0,0,0,0,0],index = columns)\n",
    "    return return_dict,dir_list"
   ]
  },
  {
   "cell_type": "code",
   "execution_count": 6,
   "metadata": {},
   "outputs": [
    {
     "name": "stdout",
     "output_type": "stream",
     "text": [
      "/home/aiclub/jupyter_env/Crimson_peacock/car_number/output/csv/002_train.csv\n",
      "/home/aiclub/jupyter_env/Crimson_peacock/car_number/output/csv/004_train.csv\n",
      "/home/aiclub/jupyter_env/Crimson_peacock/car_number/output/csv/001_train.csv\n",
      "/home/aiclub/jupyter_env/Crimson_peacock/car_number/output/csv/003_train.csv\n",
      "/home/aiclub/jupyter_env/Crimson_peacock/car_number/output/csv/20190125_train.csv\n",
      "/home/aiclub/jupyter_env/Crimson_peacock/car_number/output/csv/20190124_train.csv\n",
      "/home/aiclub/jupyter_env/Crimson_peacock/car_number/output/csv/20190123_train.csv\n"
     ]
    }
   ],
   "source": [
    "train_csv_dict, train_dir_list = read_csv_to_df(train_csv_list)\n",
    "\n",
    "#test_csv_dict, test_dir_list  = read_csv_to_df(test_csv_list)\n",
    "pred_csv_dict, pred_dir_list  = read_csv_to_df(pred_csv_list)\n",
    "\n",
    "label = train_csv_dict[\"001\"].columns"
   ]
  },
  {
   "cell_type": "code",
   "execution_count": 60,
   "metadata": {},
   "outputs": [],
   "source": [
    "def data_pack(csv_dict, dir_list,train_path):\n",
    "    img_shape = 200.\n",
    "    x_data =[]\n",
    "    y_data=[]\n",
    "    data_list = []\n",
    "\n",
    "    for name in dir_list:\n",
    "        train_dir_path = f\"{train_path}/{name}\"\n",
    "\n",
    "        index_list = csv_dict[name].index.values\n",
    "        \n",
    "        #tmp_dir = [f\"{train_dir_path}/img_name\" for img_name in index_list]\n",
    "        data_list.extend(index_list)\n",
    "\n",
    "\n",
    "        x_list = [img_to_array(load_img(f\"{train_dir_path}/train_{val}.jpg\"))/255. for val in index_list]\n",
    "        \n",
    "        y_list = [csv_dict[name].loc[val].values/img_shape for val in index_list]\n",
    "\n",
    "        print(name)\n",
    "        x_list = np.array(x_list)\n",
    "        print(x_list.shape)\n",
    "        y_list = np.array(y_list)\n",
    "        print(y_list.shape)\n",
    "        \n",
    "        x_data.append(x_list)\n",
    "        y_data.append(y_list)\n",
    "        \n",
    "        #return x_data, y_data\n",
    "    return np.vstack(x_data), np.vstack(y_data),data_list"
   ]
  },
  {
   "cell_type": "code",
   "execution_count": 61,
   "metadata": {},
   "outputs": [
    {
     "name": "stdout",
     "output_type": "stream",
     "text": [
      "002\n",
      "(71, 200, 200, 3)\n",
      "(71, 8)\n",
      "004\n",
      "(348, 200, 200, 3)\n",
      "(348, 8)\n",
      "001\n",
      "(302, 200, 200, 3)\n",
      "(302, 8)\n",
      "003\n",
      "(157, 200, 200, 3)\n",
      "(157, 8)\n",
      "20190125\n",
      "(34, 200, 200, 3)\n",
      "(34, 8)\n",
      "20190124\n",
      "(27, 200, 200, 3)\n",
      "(27, 8)\n",
      "==============-\n",
      "20190123\n",
      "(128, 200, 200, 3)\n",
      "(128, 8)\n"
     ]
    }
   ],
   "source": [
    "x_train,y_train,train_data_list=data_pack(train_csv_dict, train_dir_list, output_train_path)\n",
    "print(\"==============-\")\n",
    "pred_x_test,pred_y_test,pred_data_list=data_pack(pred_csv_dict, pred_dir_list,output_train_path)"
   ]
  },
  {
   "cell_type": "code",
   "execution_count": 62,
   "metadata": {},
   "outputs": [
    {
     "name": "stdout",
     "output_type": "stream",
     "text": [
      "(939, 200, 200, 3)\n"
     ]
    }
   ],
   "source": [
    "print(x_train.shape)"
   ]
  },
  {
   "cell_type": "code",
   "execution_count": 9,
   "metadata": {},
   "outputs": [],
   "source": [
    "from keras.models import Sequential\n",
    "from keras.layers.normalization import BatchNormalization\n",
    "from keras.layers.convolutional import Conv2D\n",
    "from keras.layers.pooling import MaxPool2D, GlobalAveragePooling2D\n",
    "from keras.optimizers import Adam\n",
    "from keras.layers.core import Dense, Activation, Dropout, Flatten\n",
    "from keras.utils import plot_model"
   ]
  },
  {
   "cell_type": "code",
   "execution_count": 10,
   "metadata": {},
   "outputs": [
    {
     "name": "stdout",
     "output_type": "stream",
     "text": [
      "(200, 200, 3)\n",
      "WARNING:tensorflow:From /home/aiclub/jupyter_env/.venv/lib/python3.6/site-packages/keras/backend/tensorflow_backend.py:4070: The name tf.nn.max_pool is deprecated. Please use tf.nn.max_pool2d instead.\n",
      "\n"
     ]
    }
   ],
   "source": [
    "model = Sequential()\n",
    "\n",
    "print(x_train.shape[1:])\n",
    "model.add(Conv2D(32, (5, 5), padding='same', input_shape=x_train.shape[1:]))\n",
    "model.add(BatchNormalization())\n",
    "model.add(Conv2D(32, (3, 3), padding='same',kernel_initializer='he_normal'))\n",
    "model.add(BatchNormalization())\n",
    "model.add(Activation('relu'))\n",
    "model.add(MaxPool2D(pool_size=(2, 2)))\n",
    "model.add(Dropout(0.5))\n",
    "\n",
    "model.add(Conv2D(64, (1, 1), padding='same',kernel_initializer='he_normal'))\n",
    "model.add(BatchNormalization())\n",
    "model.add(Activation('relu'))\n",
    "model.add(Conv2D(64, (3, 3) ,padding='same',kernel_initializer='he_normal'))\n",
    "model.add(BatchNormalization())\n",
    "model.add(Activation('relu'))\n",
    "model.add(Conv2D(256, (1, 1) ,padding='same',kernel_initializer='he_normal'))\n",
    "model.add(BatchNormalization())\n",
    "model.add(Activation('relu'))\n",
    "model.add(MaxPool2D(pool_size=(2, 2)))\n",
    "model.add(Dropout(0.5))\n",
    "\n",
    "model.add(Conv2D(256, (1, 1), padding='same',kernel_initializer='he_normal'))\n",
    "model.add(BatchNormalization())\n",
    "#model.add(Activation('relu'))\n",
    "model.add(Conv2D(256, (3, 3), padding='same',kernel_initializer='he_normal'))\n",
    "model.add(BatchNormalization())\n",
    "model.add(Activation('relu'))\n",
    "model.add(Conv2D(256, (1, 1), padding='same',kernel_initializer='he_normal'))\n",
    "model.add(BatchNormalization())\n",
    "#model.add(Activation('relu'))\n",
    "model.add(MaxPool2D(pool_size=(2, 2)))\n",
    "model.add(Dropout(0.5))\n",
    "\n",
    "model.add(GlobalAveragePooling2D())\n",
    "model.add(Dense(512))\n",
    "model.add(Activation('relu'))\n",
    "model.add(BatchNormalization())\n",
    "model.add(Dropout(0.5))\n",
    "model.add(Dense(256))\n",
    "model.add(Activation('relu'))\n",
    "model.add(BatchNormalization())\n",
    "model.add(Dropout(0.5))\n",
    "model.add(Dense(y_train.shape[1]))\n",
    "#model.add(Activation('softmax'))"
   ]
  },
  {
   "cell_type": "code",
   "execution_count": 19,
   "metadata": {},
   "outputs": [],
   "source": [
    "from keras.optimizers import Adam, Nadam\n",
    "nadam = Nadam(lr=0.002, beta_1=0.9, beta_2=0.999, epsilon=1e-08, schedule_decay=0.004)\n",
    "adam = Adam(lr=0.001, beta_1=0.9, beta_2=0.999, epsilon=1e-08)\n",
    "model.compile(loss='mean_absolute_error',\n",
    "                  optimizer=nadam,\n",
    "                  metrics=['squared_hinge'])"
   ]
  },
  {
   "cell_type": "code",
   "execution_count": 20,
   "metadata": {},
   "outputs": [
    {
     "name": "stdout",
     "output_type": "stream",
     "text": [
      "Train on 845 samples, validate on 94 samples\n",
      "Epoch 1/50\n",
      "845/845 [==============================] - 118s 140ms/step - loss: 0.7840 - squared_hinge: 1.2372 - val_loss: 0.5062 - val_squared_hinge: 0.8952\n",
      "Epoch 2/50\n",
      "845/845 [==============================] - 117s 139ms/step - loss: 0.6615 - squared_hinge: 1.0917 - val_loss: 0.4443 - val_squared_hinge: 0.7106\n",
      "Epoch 3/50\n",
      "845/845 [==============================] - 117s 139ms/step - loss: 0.5708 - squared_hinge: 0.8796 - val_loss: 0.5480 - val_squared_hinge: 0.6147\n",
      "Epoch 4/50\n",
      "845/845 [==============================] - 117s 139ms/step - loss: 0.4963 - squared_hinge: 0.7310 - val_loss: 0.4086 - val_squared_hinge: 0.5752\n",
      "Epoch 5/50\n",
      "845/845 [==============================] - 117s 139ms/step - loss: 0.4288 - squared_hinge: 0.6673 - val_loss: 0.7856 - val_squared_hinge: 1.1688\n",
      "Epoch 6/50\n",
      "845/845 [==============================] - 118s 139ms/step - loss: 0.4034 - squared_hinge: 0.7060 - val_loss: 0.5661 - val_squared_hinge: 0.7983\n",
      "Epoch 7/50\n",
      "845/845 [==============================] - 117s 139ms/step - loss: 0.3517 - squared_hinge: 0.5714 - val_loss: 0.6856 - val_squared_hinge: 0.8730\n",
      "Epoch 8/50\n",
      "845/845 [==============================] - 117s 139ms/step - loss: 0.3316 - squared_hinge: 0.6359 - val_loss: 0.6292 - val_squared_hinge: 0.8835\n",
      "Epoch 9/50\n",
      "845/845 [==============================] - 117s 138ms/step - loss: 0.2957 - squared_hinge: 0.5457 - val_loss: 0.2375 - val_squared_hinge: 0.4972\n",
      "Epoch 10/50\n",
      "845/845 [==============================] - 117s 139ms/step - loss: 0.3177 - squared_hinge: 0.5344 - val_loss: 0.2133 - val_squared_hinge: 0.5609\n",
      "Epoch 11/50\n",
      "845/845 [==============================] - 118s 139ms/step - loss: 0.2816 - squared_hinge: 0.5123 - val_loss: 0.3801 - val_squared_hinge: 0.3528\n",
      "Epoch 12/50\n",
      "845/845 [==============================] - 117s 139ms/step - loss: 0.2660 - squared_hinge: 0.5241 - val_loss: 0.4317 - val_squared_hinge: 0.3954\n",
      "Epoch 13/50\n",
      "845/845 [==============================] - 117s 139ms/step - loss: 0.2478 - squared_hinge: 0.4808 - val_loss: 0.1592 - val_squared_hinge: 0.5021\n",
      "Epoch 14/50\n",
      "845/845 [==============================] - 117s 139ms/step - loss: 0.2431 - squared_hinge: 0.5318 - val_loss: 0.1534 - val_squared_hinge: 0.4678\n",
      "Epoch 15/50\n",
      "845/845 [==============================] - 117s 139ms/step - loss: 0.2299 - squared_hinge: 0.4957 - val_loss: 0.2146 - val_squared_hinge: 0.5745\n",
      "Epoch 16/50\n",
      "845/845 [==============================] - 118s 139ms/step - loss: 0.2164 - squared_hinge: 0.4838 - val_loss: 0.1721 - val_squared_hinge: 0.4954\n",
      "Epoch 17/50\n",
      "845/845 [==============================] - 117s 139ms/step - loss: 0.2042 - squared_hinge: 0.4835 - val_loss: 0.1574 - val_squared_hinge: 0.4994\n",
      "Epoch 18/50\n",
      "845/845 [==============================] - 117s 139ms/step - loss: 0.2035 - squared_hinge: 0.4652 - val_loss: 0.4102 - val_squared_hinge: 0.3615\n",
      "Epoch 19/50\n",
      "845/845 [==============================] - 118s 139ms/step - loss: 0.1942 - squared_hinge: 0.4412 - val_loss: 0.2685 - val_squared_hinge: 0.5407\n",
      "Epoch 20/50\n",
      "845/845 [==============================] - 117s 139ms/step - loss: 0.1809 - squared_hinge: 0.4424 - val_loss: 0.1983 - val_squared_hinge: 0.5715\n",
      "Epoch 21/50\n",
      "845/845 [==============================] - 117s 138ms/step - loss: 0.1775 - squared_hinge: 0.4338 - val_loss: 0.1827 - val_squared_hinge: 0.5497\n",
      "Epoch 22/50\n",
      "845/845 [==============================] - 117s 139ms/step - loss: 0.1684 - squared_hinge: 0.4436 - val_loss: 0.2794 - val_squared_hinge: 0.6553\n",
      "Epoch 23/50\n",
      "845/845 [==============================] - 117s 139ms/step - loss: 0.1632 - squared_hinge: 0.4254 - val_loss: 0.2604 - val_squared_hinge: 0.6341\n",
      "Epoch 24/50\n",
      "845/845 [==============================] - 118s 139ms/step - loss: 0.1554 - squared_hinge: 0.4255 - val_loss: 0.1614 - val_squared_hinge: 0.4639\n",
      "Epoch 25/50\n",
      "845/845 [==============================] - 117s 139ms/step - loss: 0.1494 - squared_hinge: 0.4141 - val_loss: 0.1539 - val_squared_hinge: 0.4342\n",
      "Epoch 26/50\n",
      "845/845 [==============================] - 117s 139ms/step - loss: 0.1411 - squared_hinge: 0.4086 - val_loss: 0.2023 - val_squared_hinge: 0.4279\n",
      "Epoch 27/50\n",
      "845/845 [==============================] - 117s 139ms/step - loss: 0.1389 - squared_hinge: 0.4147 - val_loss: 0.3492 - val_squared_hinge: 0.3801\n",
      "Epoch 28/50\n",
      "845/845 [==============================] - 118s 139ms/step - loss: 0.1397 - squared_hinge: 0.4117 - val_loss: 0.2403 - val_squared_hinge: 0.6163\n",
      "Epoch 29/50\n",
      "845/845 [==============================] - 117s 139ms/step - loss: 0.1301 - squared_hinge: 0.4055 - val_loss: 0.1766 - val_squared_hinge: 0.5326\n",
      "Epoch 30/50\n",
      "845/845 [==============================] - 117s 139ms/step - loss: 0.1348 - squared_hinge: 0.4090 - val_loss: 0.2011 - val_squared_hinge: 0.4311\n",
      "Epoch 31/50\n",
      "845/845 [==============================] - 117s 139ms/step - loss: 0.1299 - squared_hinge: 0.4052 - val_loss: 0.1211 - val_squared_hinge: 0.4627\n",
      "Epoch 32/50\n",
      "845/845 [==============================] - 118s 139ms/step - loss: 0.1275 - squared_hinge: 0.4042 - val_loss: 0.1680 - val_squared_hinge: 0.5266\n",
      "Epoch 33/50\n",
      "845/845 [==============================] - 117s 139ms/step - loss: 0.1238 - squared_hinge: 0.4026 - val_loss: 0.1300 - val_squared_hinge: 0.4216\n",
      "Epoch 34/50\n",
      "845/845 [==============================] - 118s 139ms/step - loss: 0.1215 - squared_hinge: 0.4029 - val_loss: 0.1252 - val_squared_hinge: 0.4507\n",
      "Epoch 35/50\n",
      "845/845 [==============================] - 117s 139ms/step - loss: 0.1222 - squared_hinge: 0.4042 - val_loss: 0.1676 - val_squared_hinge: 0.4091\n",
      "Epoch 36/50\n",
      "845/845 [==============================] - 117s 139ms/step - loss: 0.1216 - squared_hinge: 0.4012 - val_loss: 0.1549 - val_squared_hinge: 0.4702\n",
      "Epoch 37/50\n",
      "845/845 [==============================] - 117s 139ms/step - loss: 0.1187 - squared_hinge: 0.4031 - val_loss: 0.1410 - val_squared_hinge: 0.4288\n",
      "Epoch 38/50\n",
      "845/845 [==============================] - 117s 139ms/step - loss: 0.1138 - squared_hinge: 0.3994 - val_loss: 0.1358 - val_squared_hinge: 0.4228\n",
      "Epoch 39/50\n",
      "845/845 [==============================] - 117s 139ms/step - loss: 0.1116 - squared_hinge: 0.3975 - val_loss: 0.1563 - val_squared_hinge: 0.4590\n",
      "Epoch 40/50\n",
      "845/845 [==============================] - 118s 140ms/step - loss: 0.1115 - squared_hinge: 0.3973 - val_loss: 0.1127 - val_squared_hinge: 0.4440\n",
      "Epoch 41/50\n",
      "845/845 [==============================] - 118s 139ms/step - loss: 0.1108 - squared_hinge: 0.3991 - val_loss: 0.1249 - val_squared_hinge: 0.4190\n",
      "Epoch 42/50\n",
      "845/845 [==============================] - 118s 139ms/step - loss: 0.1090 - squared_hinge: 0.3977 - val_loss: 0.1457 - val_squared_hinge: 0.4190\n",
      "Epoch 43/50\n",
      "845/845 [==============================] - 117s 138ms/step - loss: 0.1127 - squared_hinge: 0.3980 - val_loss: 0.1111 - val_squared_hinge: 0.4482\n",
      "Epoch 44/50\n",
      "845/845 [==============================] - 118s 139ms/step - loss: 0.1100 - squared_hinge: 0.4003 - val_loss: 0.1394 - val_squared_hinge: 0.3957\n",
      "Epoch 45/50\n",
      "845/845 [==============================] - 117s 139ms/step - loss: 0.1097 - squared_hinge: 0.3990 - val_loss: 0.1294 - val_squared_hinge: 0.4067\n",
      "Epoch 46/50\n",
      "845/845 [==============================] - 117s 139ms/step - loss: 0.1062 - squared_hinge: 0.3984 - val_loss: 0.1212 - val_squared_hinge: 0.4233\n",
      "Epoch 47/50\n",
      "845/845 [==============================] - 117s 139ms/step - loss: 0.1134 - squared_hinge: 0.3977 - val_loss: 0.1897 - val_squared_hinge: 0.3546\n",
      "Epoch 48/50\n",
      "845/845 [==============================] - 117s 139ms/step - loss: 0.1048 - squared_hinge: 0.3977 - val_loss: 0.1136 - val_squared_hinge: 0.4492\n",
      "Epoch 49/50\n",
      "845/845 [==============================] - 117s 139ms/step - loss: 0.1046 - squared_hinge: 0.3964 - val_loss: 0.2957 - val_squared_hinge: 0.4603\n",
      "Epoch 50/50\n",
      "845/845 [==============================] - 117s 139ms/step - loss: 0.1034 - squared_hinge: 0.3973 - val_loss: 0.1948 - val_squared_hinge: 0.3835\n"
     ]
    }
   ],
   "source": [
    "history = model.fit(x_train, y_train, batch_size=128, epochs=50, verbose=1, validation_split=0.1)"
   ]
  },
  {
   "cell_type": "code",
   "execution_count": 26,
   "metadata": {},
   "outputs": [],
   "source": [
    "model.save(f\"{output_path}/test.h5\")\n",
    "#plot_model(model, to_file=f\"{output_path}/test.png\")"
   ]
  },
  {
   "cell_type": "code",
   "execution_count": 27,
   "metadata": {},
   "outputs": [],
   "source": [
    "from keras.models import load_model\n",
    "l_mode=load_model(f\"{output_path}/test.h5\")"
   ]
  },
  {
   "cell_type": "code",
   "execution_count": 28,
   "metadata": {},
   "outputs": [
    {
     "name": "stdout",
     "output_type": "stream",
     "text": [
      "Test loss: 0.23299871012568474\n",
      "Test accuracy: 0.4259449541568756\n"
     ]
    }
   ],
   "source": [
    "score = l_mode.evaluate(pred_x_test, pred_y_test, verbose=0)\n",
    "print('Test loss:', score[0])\n",
    "print('Test accuracy:', score[1])"
   ]
  },
  {
   "cell_type": "code",
   "execution_count": 29,
   "metadata": {},
   "outputs": [
    {
     "name": "stdout",
     "output_type": "stream",
     "text": [
      "Model: \"sequential_1\"\n",
      "_________________________________________________________________\n",
      "Layer (type)                 Output Shape              Param #   \n",
      "=================================================================\n",
      "conv2d_1 (Conv2D)            (None, 200, 200, 32)      2432      \n",
      "_________________________________________________________________\n",
      "batch_normalization_1 (Batch (None, 200, 200, 32)      128       \n",
      "_________________________________________________________________\n",
      "conv2d_2 (Conv2D)            (None, 200, 200, 32)      9248      \n",
      "_________________________________________________________________\n",
      "batch_normalization_2 (Batch (None, 200, 200, 32)      128       \n",
      "_________________________________________________________________\n",
      "activation_1 (Activation)    (None, 200, 200, 32)      0         \n",
      "_________________________________________________________________\n",
      "max_pooling2d_1 (MaxPooling2 (None, 100, 100, 32)      0         \n",
      "_________________________________________________________________\n",
      "dropout_1 (Dropout)          (None, 100, 100, 32)      0         \n",
      "_________________________________________________________________\n",
      "conv2d_3 (Conv2D)            (None, 100, 100, 64)      2112      \n",
      "_________________________________________________________________\n",
      "batch_normalization_3 (Batch (None, 100, 100, 64)      256       \n",
      "_________________________________________________________________\n",
      "conv2d_4 (Conv2D)            (None, 100, 100, 64)      36928     \n",
      "_________________________________________________________________\n",
      "batch_normalization_4 (Batch (None, 100, 100, 64)      256       \n",
      "_________________________________________________________________\n",
      "activation_2 (Activation)    (None, 100, 100, 64)      0         \n",
      "_________________________________________________________________\n",
      "conv2d_5 (Conv2D)            (None, 100, 100, 256)     16640     \n",
      "_________________________________________________________________\n",
      "batch_normalization_5 (Batch (None, 100, 100, 256)     1024      \n",
      "_________________________________________________________________\n",
      "max_pooling2d_2 (MaxPooling2 (None, 50, 50, 256)       0         \n",
      "_________________________________________________________________\n",
      "dropout_2 (Dropout)          (None, 50, 50, 256)       0         \n",
      "_________________________________________________________________\n",
      "conv2d_6 (Conv2D)            (None, 50, 50, 256)       65792     \n",
      "_________________________________________________________________\n",
      "batch_normalization_6 (Batch (None, 50, 50, 256)       1024      \n",
      "_________________________________________________________________\n",
      "conv2d_7 (Conv2D)            (None, 50, 50, 256)       590080    \n",
      "_________________________________________________________________\n",
      "batch_normalization_7 (Batch (None, 50, 50, 256)       1024      \n",
      "_________________________________________________________________\n",
      "activation_3 (Activation)    (None, 50, 50, 256)       0         \n",
      "_________________________________________________________________\n",
      "conv2d_8 (Conv2D)            (None, 50, 50, 256)       65792     \n",
      "_________________________________________________________________\n",
      "batch_normalization_8 (Batch (None, 50, 50, 256)       1024      \n",
      "_________________________________________________________________\n",
      "max_pooling2d_3 (MaxPooling2 (None, 25, 25, 256)       0         \n",
      "_________________________________________________________________\n",
      "dropout_3 (Dropout)          (None, 25, 25, 256)       0         \n",
      "_________________________________________________________________\n",
      "global_average_pooling2d_1 ( (None, 256)               0         \n",
      "_________________________________________________________________\n",
      "dense_1 (Dense)              (None, 256)               65792     \n",
      "_________________________________________________________________\n",
      "activation_4 (Activation)    (None, 256)               0         \n",
      "_________________________________________________________________\n",
      "batch_normalization_9 (Batch (None, 256)               1024      \n",
      "_________________________________________________________________\n",
      "dropout_4 (Dropout)          (None, 256)               0         \n",
      "_________________________________________________________________\n",
      "dense_2 (Dense)              (None, 8)                 2056      \n",
      "=================================================================\n",
      "Total params: 862,760\n",
      "Trainable params: 859,816\n",
      "Non-trainable params: 2,944\n",
      "_________________________________________________________________\n"
     ]
    }
   ],
   "source": [
    "l_mode.summary()"
   ]
  },
  {
   "cell_type": "code",
   "execution_count": 30,
   "metadata": {},
   "outputs": [
    {
     "name": "stdout",
     "output_type": "stream",
     "text": [
      "[[0.6107299  0.54899204 0.5412401  ... 0.60496795 0.63531095 0.6409596 ]\n",
      " [0.68729967 0.6007798  0.69509774 ... 0.65946263 0.75801414 0.67565453]\n",
      " [0.53608096 0.7032614  0.6747147  ... 0.79453146 0.7066305  0.7711067 ]\n",
      " ...\n",
      " [0.9820153  0.6005558  0.8972172  ... 0.65169567 0.9483639  0.6383896 ]\n",
      " [0.44451421 0.6873096  0.59454715 ... 0.7771026  0.636935   0.7628404 ]\n",
      " [0.6484609  0.7008399  0.807749   ... 0.7859901  0.83569354 0.7450149 ]]\n"
     ]
    }
   ],
   "source": [
    "pred_his = l_mode.predict(pred_x_test)\n",
    "print(pred_his)"
   ]
  },
  {
   "cell_type": "code",
   "execution_count": 41,
   "metadata": {},
   "outputs": [
    {
     "name": "stdout",
     "output_type": "stream",
     "text": [
      "[[0.61072975 0.54899204 0.54124004 0.43211472 0.6588821  0.60496795\n",
      "  0.635311   0.6409595 ]]\n",
      "[[0.26805623 0.64382872 0.47018905 0.70579345 0.24769753 0.74861461\n",
      "  0.44740669 0.81360202]]\n"
     ]
    }
   ],
   "source": [
    "pred_his = l_mode.predict(pred_x_test[0:1])\n",
    "print(pred_his)\n",
    "print(pred_y_test[0:1])"
   ]
  },
  {
   "cell_type": "code",
   "execution_count": 31,
   "metadata": {},
   "outputs": [
    {
     "name": "stdout",
     "output_type": "stream",
     "text": [
      "(128, 200, 200, 3)\n"
     ]
    }
   ],
   "source": [
    "print(pred_x_test.shape)"
   ]
  },
  {
   "cell_type": "code",
   "execution_count": 32,
   "metadata": {},
   "outputs": [],
   "source": [
    "def check_img(image, y_label,name=None):\n",
    "    im = image\n",
    "\n",
    "    cv2.drawMarker(im,(int(y_label[0]),int(y_label[1])),(255,0,0), markerType=cv2.MARKER_STAR)\n",
    "    cv2.drawMarker(im,(int(y_label[2]),int(y_label[3])),(0,255,0), markerType=cv2.MARKER_STAR)\n",
    "    cv2.drawMarker(im,(int(y_label[4]),int(y_label[5])),(0,0,255), markerType=cv2.MARKER_STAR)\n",
    "    cv2.drawMarker(im,(int(y_label[6]),int(y_label[7])),(0,0,0), markerType=cv2.MARKER_STAR)\n",
    "    \n",
    "    if name is not None:\n",
    "        image_path =f\"{current_path}/output/model/{name}.jpg\"\n",
    "        cv2.imwrite(image_path,im)\n",
    "        return im\n",
    "    else:\n",
    "        return im\n",
    "    del im"
   ]
  },
  {
   "cell_type": "code",
   "execution_count": 20,
   "metadata": {},
   "outputs": [],
   "source": [
    "#print((pred_x_test[0]*255).astype(np.int16))"
   ]
  },
  {
   "cell_type": "code",
   "execution_count": 65,
   "metadata": {},
   "outputs": [
    {
     "data": {
      "image/png": "[encoded data removed]",
      "text/plain": [
       "<Figure size 432x288 with 1 Axes>"
      ]
     },
     "metadata": {
      "needs_background": "light"
     },
     "output_type": "display_data"
    }
   ],
   "source": [
    "image=check_img((x_train[100]*255).astype(np.int16),y_train[100]*200)\n",
    "plt.imshow(image)\n",
    "test_img_path =f\"{current_path}/output/model/test_img.jpg\"\n",
    "plt.savefig(test_img_path)"
   ]
  },
  {
   "cell_type": "code",
   "execution_count": 64,
   "metadata": {},
   "outputs": [
    {
     "name": "stdout",
     "output_type": "stream",
     "text": [
      "[0.26805623 0.64382872 0.47018905 0.70579345 0.24769753 0.74861461\n",
      " 0.44740669 0.81360202]\n"
     ]
    }
   ],
   "source": [
    "print(pred_y_test[0])"
   ]
  },
  {
   "cell_type": "code",
   "execution_count": 35,
   "metadata": {},
   "outputs": [],
   "source": [
    "for i,name in enumerate(pred_data_list):\n",
    "    x_img = (pred_x_test[i]*255).astype(np.int16)\n",
    "    pred_val = (pred_his[i]*200).astype(np.int16)\n",
    "    check_img(x_img,pred_val,name)"
   ]
  },
  {
   "cell_type": "code",
   "execution_count": 36,
   "metadata": {},
   "outputs": [
    {
     "ename": "TypeError",
     "evalue": "__init__() got an unexpected keyword argument 'interpolation_order'",
     "output_type": "error",
     "traceback": [
      "\u001b[0;31m---------------------------------------------------------------------------\u001b[0m",
      "\u001b[0;31mTypeError\u001b[0m                                 Traceback (most recent call last)",
      "\u001b[0;32m<ipython-input-36-44cc04bc5534>\u001b[0m in \u001b[0;36m<module>\u001b[0;34m()\u001b[0m\n\u001b[1;32m      4\u001b[0m     \u001b[0;34m'width_shift_range'\u001b[0m\u001b[0;34m:\u001b[0m \u001b[0;36m0.1\u001b[0m\u001b[0;34m\u001b[0m\u001b[0;34m\u001b[0m\u001b[0m\n\u001b[1;32m      5\u001b[0m }\n\u001b[0;32m----> 6\u001b[0;31m \u001b[0mdatagen\u001b[0m \u001b[0;34m=\u001b[0m \u001b[0mimage\u001b[0m\u001b[0;34m.\u001b[0m\u001b[0mImageDataGenerator\u001b[0m\u001b[0;34m(\u001b[0m\u001b[0;34m**\u001b[0m\u001b[0mparams\u001b[0m\u001b[0;34m)\u001b[0m\u001b[0;34m\u001b[0m\u001b[0;34m\u001b[0m\u001b[0m\n\u001b[0m\u001b[1;32m      7\u001b[0m \u001b[0mgen\u001b[0m \u001b[0;34m=\u001b[0m \u001b[0mdatagen\u001b[0m\u001b[0;34m.\u001b[0m\u001b[0mflow\u001b[0m\u001b[0;34m(\u001b[0m\u001b[0mx\u001b[0m\u001b[0;34m,\u001b[0m \u001b[0mbatch_size\u001b[0m\u001b[0;34m=\u001b[0m\u001b[0;36m16\u001b[0m\u001b[0;34m)\u001b[0m\u001b[0;34m\u001b[0m\u001b[0;34m\u001b[0m\u001b[0m\n\u001b[1;32m      8\u001b[0m \u001b[0mprint\u001b[0m\u001b[0;34m(\u001b[0m\u001b[0mlen\u001b[0m\u001b[0;34m(\u001b[0m\u001b[0mx_train\u001b[0m\u001b[0;34m)\u001b[0m\u001b[0;34m)\u001b[0m\u001b[0;34m\u001b[0m\u001b[0;34m\u001b[0m\u001b[0m\n",
      "\u001b[0;32m~/jupyter_env/.venv/lib/python3.6/site-packages/keras/preprocessing/image.py\u001b[0m in \u001b[0;36m__init__\u001b[0;34m(self, featurewise_center, samplewise_center, featurewise_std_normalization, samplewise_std_normalization, zca_whitening, zca_epsilon, rotation_range, width_shift_range, height_shift_range, brightness_range, shear_range, zoom_range, channel_shift_range, fill_mode, cval, horizontal_flip, vertical_flip, rescale, preprocessing_function, data_format, validation_split, interpolation_order, dtype)\u001b[0m\n\u001b[1;32m    290\u001b[0m             \u001b[0mvalidation_split\u001b[0m\u001b[0;34m=\u001b[0m\u001b[0mvalidation_split\u001b[0m\u001b[0;34m,\u001b[0m\u001b[0;34m\u001b[0m\u001b[0;34m\u001b[0m\u001b[0m\n\u001b[1;32m    291\u001b[0m             \u001b[0minterpolation_order\u001b[0m\u001b[0;34m=\u001b[0m\u001b[0minterpolation_order\u001b[0m\u001b[0;34m,\u001b[0m\u001b[0;34m\u001b[0m\u001b[0;34m\u001b[0m\u001b[0m\n\u001b[0;32m--> 292\u001b[0;31m             dtype=dtype)\n\u001b[0m\u001b[1;32m    293\u001b[0m \u001b[0;34m\u001b[0m\u001b[0m\n\u001b[1;32m    294\u001b[0m     def flow(self,\n",
      "\u001b[0;31mTypeError\u001b[0m: __init__() got an unexpected keyword argument 'interpolation_order'"
     ]
    }
   ],
   "source": [
    "from keras.preprocessing import image\n",
    "params = {\n",
    "    'rotation_range': 20,\n",
    "    'width_shift_range': 0.1\n",
    "}\n",
    "datagen = image.ImageDataGenerator(**params)\n",
    "gen = datagen.flow(x, batch_size=16)\n",
    "print(len(x_train))\n",
    "model.fit_generator(gen, steps_per_epoch=len(x_train) / 32, epochs=16)"
   ]
  },
  {
   "cell_type": "code",
   "execution_count": 24,
   "metadata": {},
   "outputs": [
    {
     "name": "stdout",
     "output_type": "stream",
     "text": [
      "README.md\t draw_marker.ipynb  resize.py\t    test4.jpg\r\n",
      "Untitled.ipynb\t keras_yolo3\t    resized_df.csv  test5.jpg\r\n",
      "Untitled1.ipynb  main.py\t    ssd.ipynb\t    test6.jpg\r\n",
      "Untitled4.ipynb  model\t\t    ssd_predict.py  test7.jpg\r\n",
      "__pycache__\t my_yolo.py\t    test.jpg\t    test8.jpg\r\n",
      "car_image\t output\t\t    test0.jpg\t    test9.jpg\r\n",
      "cnn_model.ipynb  output.zip\t    test1.jpg\t    train_load.ipynb\r\n",
      "custom_gen.py\t preprocess.py\t    test2.jpg\t    utils.py\r\n",
      "data\t\t resize.ipynb\t    test3.jpg\r\n"
     ]
    }
   ],
   "source": []
  },
  {
   "cell_type": "code",
   "execution_count": null,
   "metadata": {},
   "outputs": [],
   "source": []
  }
 ],
 "metadata": {
  "kernelspec": {
   "display_name": "Python 3",
   "language": "python",
   "name": "python3"
  },
  "language_info": {
   "codemirror_mode": {
    "name": "ipython",
    "version": 3
   },
   "file_extension": ".py",
   "mimetype": "text/x-python",
   "name": "python",
   "nbconvert_exporter": "python",
   "pygments_lexer": "ipython3",
   "version": "3.6.6+"
  }
 },
 "nbformat": 4,
 "nbformat_minor": 2
}
