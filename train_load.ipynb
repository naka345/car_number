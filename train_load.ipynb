{
 "cells": [
  {
   "cell_type": "code",
   "execution_count": 1,
   "metadata": {},
   "outputs": [
    {
     "name": "stderr",
     "output_type": "stream",
     "text": [
      "Using TensorFlow backend.\n"
     ]
    },
    {
     "name": "stdout",
     "output_type": "stream",
     "text": [
      "channels_last\n"
     ]
    }
   ],
   "source": [
    "import re\n",
    "import os\n",
    "import glob\n",
    "import numpy as np\n",
    "import pandas as pd\n",
    "import cv2\n",
    "from keras.preprocessing.image import load_img, save_img, img_to_array, array_to_img\n",
    "import keras\n",
    "print(keras.backend.image_data_format())"
   ]
  },
  {
   "cell_type": "code",
   "execution_count": 2,
   "metadata": {},
   "outputs": [],
   "source": [
    "current_path = os.getcwd()\n",
    "output_path = f\"{current_path}/output\"\n",
    "csv_path = f\"{output_path}/csv\"\n",
    "output_train_path = f\"{output_path}/train\""
   ]
  },
  {
   "cell_type": "code",
   "execution_count": 3,
   "metadata": {},
   "outputs": [],
   "source": [
    "train_csv_list = glob.glob(f\"{csv_path}/*_train.csv\")\n"
   ]
  },
  {
   "cell_type": "code",
   "execution_count": 4,
   "metadata": {},
   "outputs": [
    {
     "name": "stdout",
     "output_type": "stream",
     "text": [
      "[['/Users/nakamura.yuta/Desktop/num_plate/car_number/output/csv/20190125_train.csv']]\n"
     ]
    }
   ],
   "source": [
    "test_csv_list=train_csv_list.pop(1)\n",
    "test_csv_list = [test_csv_list]\n",
    "print([test_csv_list])"
   ]
  },
  {
   "cell_type": "code",
   "execution_count": 5,
   "metadata": {},
   "outputs": [],
   "source": [
    "def read_csv_to_df(train_csv_list):\n",
    "    columns = [\"lu_x\",\"lu_y\",\"ru_x\",\"ru_y\",\"ld_x\",\"ld_y\",\"rd_x\",\"rd_y\"]\n",
    "    return_dict = {}\n",
    "    dir_list=[]\n",
    "    df_concat = pd.Series([0,0,0,0,0,0,0,0],index = columns)\n",
    "    for train_csv in train_csv_list:\n",
    "        dir_path = train_csv.split('/')[-1].rstrip(\"_train.csv\")\n",
    "        print(train_csv)\n",
    "        read_df = pd.read_csv(train_csv,index_col=0)\n",
    "        df_concat = pd.concat([df_concat, read_df.T],axis=1)\n",
    "        return_dict.update({dir_path:df_concat.T[1:]})\n",
    "        dir_list.append(dir_path)\n",
    "        df_concat = pd.Series([0,0,0,0,0,0,0,0],index = columns)\n",
    "    return return_dict,dir_list"
   ]
  },
  {
   "cell_type": "code",
   "execution_count": 6,
   "metadata": {},
   "outputs": [
    {
     "name": "stdout",
     "output_type": "stream",
     "text": [
      "/Users/nakamura.yuta/Desktop/num_plate/car_number/output/csv/20190124_train.csv\n",
      "/Users/nakamura.yuta/Desktop/num_plate/car_number/output/csv/20190123_train.csv\n",
      "/Users/nakamura.yuta/Desktop/num_plate/car_number/output/csv/001_train.csv\n",
      "/Users/nakamura.yuta/Desktop/num_plate/car_number/output/csv/20190125_train.csv\n"
     ]
    }
   ],
   "source": [
    "train_csv_dict, train_dir_list = read_csv_to_df(train_csv_list)\n",
    "\n",
    "test_csv_dict, test_dir_list  = read_csv_to_df(test_csv_list)\n",
    "\n",
    "label = train_csv_dict[\"001\"].columns"
   ]
  },
  {
   "cell_type": "code",
   "execution_count": 18,
   "metadata": {},
   "outputs": [],
   "source": [
    "def data_pack(csv_dict, dir_list,train_path):\n",
    "    img_shape = 200.\n",
    "    x_data =[]\n",
    "    y_data=[]\n",
    "\n",
    "    for name in dir_list:\n",
    "        train_dir_path = f\"{train_path}/{name}\"\n",
    "\n",
    "        index_list = csv_dict[name].index.values\n",
    "\n",
    "\n",
    "        x_list = [img_to_array(load_img(f\"{train_dir_path}/train_{val}.jpg\"))/255. for val in index_list]\n",
    "        y_list = [csv_dict[name].loc[val].values/img_shape for val in index_list]\n",
    "\n",
    "        print(name)\n",
    "        x_list = np.array(x_list)\n",
    "        print(x_list.shape)\n",
    "        y_list = np.array(y_list)\n",
    "        print(y_list.shape)\n",
    "        \n",
    "        x_data.append(x_list)\n",
    "        y_data.append(y_list)\n",
    "        \n",
    "        #return x_data, y_data\n",
    "    return np.vstack(x_data), np.vstack(y_data)"
   ]
  },
  {
   "cell_type": "code",
   "execution_count": 19,
   "metadata": {},
   "outputs": [
    {
     "name": "stdout",
     "output_type": "stream",
     "text": [
      "20190124\n",
      "(27, 200, 200, 3)\n",
      "(27, 8)\n",
      "20190123\n",
      "(128, 200, 200, 3)\n",
      "(128, 8)\n",
      "001\n",
      "(302, 200, 200, 3)\n",
      "(302, 8)\n",
      "==============-\n",
      "20190125\n",
      "(34, 200, 200, 3)\n",
      "(34, 8)\n"
     ]
    }
   ],
   "source": [
    "x_train,y_train=data_pack(train_csv_dict, train_dir_list, output_train_path)\n",
    "print(\"==============-\")\n",
    "x_test,y_test=data_pack(test_csv_dict, test_dir_list,output_train_path)"
   ]
  },
  {
   "cell_type": "code",
   "execution_count": 71,
   "metadata": {},
   "outputs": [
    {
     "data": {
      "text/plain": [
       "lu_x     38.376709\n",
       "lu_y    152.560386\n",
       "ru_x     70.666079\n",
       "ru_y    153.719807\n",
       "ld_x     39.964711\n",
       "ld_y    170.531401\n",
       "rd_x     71.195412\n",
       "rd_y    172.270531\n",
       "Name: 36E1C953-455F-4189-834C-1818BFAA06FC-0, dtype: float64"
      ]
     },
     "execution_count": 71,
     "metadata": {},
     "output_type": "execute_result"
    }
   ],
   "source": [
    "read_csv_dict[\"001\"].loc[\"36E1C953-455F-4189-834C-1818BFAA06FC-0\"]"
   ]
  },
  {
   "cell_type": "code",
   "execution_count": null,
   "metadata": {},
   "outputs": [],
   "source": [
    "read_csv_dict[name].loc[val] for val in index_list"
   ]
  },
  {
   "cell_type": "code",
   "execution_count": 73,
   "metadata": {},
   "outputs": [
    {
     "name": "stdout",
     "output_type": "stream",
     "text": [
      "Index(['lu_x', 'lu_y', 'ru_x', 'ru_y', 'ld_x', 'ld_y', 'rd_x', 'rd_y'], dtype='object')\n",
      "[[0.19188355 0.76280193 0.35333039 0.76859903 0.19982356 0.852657\n",
      "  0.35597706 0.86135266]]\n"
     ]
    }
   ],
   "source": [
    "label = read_csv_dict[\"001\"].columns\n",
    "y_train = read_csv_dict[\"001\"].values\n",
    "print(label)\n",
    "print(y_train[0:1])"
   ]
  },
  {
   "cell_type": "code",
   "execution_count": 83,
   "metadata": {},
   "outputs": [
    {
     "name": "stdout",
     "output_type": "stream",
     "text": [
      "(302, 200, 200, 3)\n"
     ]
    }
   ],
   "source": [
    "x_train = np.array(x_list)\n",
    "x_shape =  x_train.shape\n",
    "print(x_shape)"
   ]
  },
  {
   "cell_type": "code",
   "execution_count": 84,
   "metadata": {},
   "outputs": [
    {
     "data": {
      "text/plain": [
       "array([[1],\n",
       "       [2],\n",
       "       [3]])"
      ]
     },
     "execution_count": 84,
     "metadata": {},
     "output_type": "execute_result"
    }
   ],
   "source": [
    "a=[1,2,3]\n",
    "np.vstack((a))"
   ]
  },
  {
   "cell_type": "code",
   "execution_count": null,
   "metadata": {},
   "outputs": [],
   "source": []
  }
 ],
 "metadata": {
  "kernelspec": {
   "display_name": "Python 3",
   "language": "python",
   "name": "python3"
  },
  "language_info": {
   "codemirror_mode": {
    "name": "ipython",
    "version": 3
   },
   "file_extension": ".py",
   "mimetype": "text/x-python",
   "name": "python",
   "nbconvert_exporter": "python",
   "pygments_lexer": "ipython3",
   "version": "3.7.4"
  }
 },
 "nbformat": 4,
 "nbformat_minor": 2
}
